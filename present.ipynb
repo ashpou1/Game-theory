{
  "nbformat": 4,
  "nbformat_minor": 0,
  "metadata": {
    "colab": {
      "name": "Copy of Untitled2.ipynb",
      "provenance": [],
      "collapsed_sections": [],
      "include_colab_link": true
    },
    "kernelspec": {
      "name": "python3",
      "display_name": "Python 3"
    },
    "language_info": {
      "name": "python"
    }
  },
  "cells": [
    {
      "cell_type": "markdown",
      "metadata": {
        "id": "view-in-github",
        "colab_type": "text"
      },
      "source": [
        "<a href=\"https://colab.research.google.com/github/ashpou1/Game-theory/blob/main/present.ipynb\" target=\"_parent\"><img src=\"https://colab.research.google.com/assets/colab-badge.svg\" alt=\"Open In Colab\"/></a>"
      ]
    },
    {
      "cell_type": "markdown",
      "metadata": {
        "id": "4IUVPlH3wXKR"
      },
      "source": [
        "## $$GAME$$  $$THEORY$$\n",
        "It is a branch of mathmatics concerned with the analysis of decision-making and strategy. It is applied in economics,biology and behavioral science. Game theory is used to determine different strategy to compete with one another. Game theory is also used in everyday life to make decision like when to change lanes in traffic, when to cross the road or even when to do your assignment.\n",
        "\n",
        "Game theory gained widespread recognition in early $1940's$ when it was applied to the theoretical study of economics by mathematician john von JOHN VON NEWMANN and the economist OSKAR MORGENSTERN in their book $THEORY$ $OF$ $GAMES$ $AND$ $ECOMONIC$ $BENAVIOR$. since then its scopes broadened to co-operative interaction as well as in applied theoretical aspects of social sciences. \n",
        "\n",
        "the Nash equilibrium is a decision that does not deviate no matter what the other player chooses. It benefits person A no matter what person B does. Although it is not necessarily the optimal decision for both.\n",
        "\n",
        "On the other word, game theory can also be defined as the mathmatical study of decision-making, of conflict and strategy in social situations."
      ]
    },
    {
      "cell_type": "markdown",
      "metadata": {
        "id": "vQmR6t0_wjRq"
      },
      "source": [
        "## $$MOTIVATION$$"
      ]
    },
    {
      "cell_type": "markdown",
      "metadata": {
        "id": "fjDPrsYOxBUV"
      },
      "source": [
        "## THEORY\n",
        "# HISTORY\n",
        "1. Cournot (1838): quantity setting duopoly\n",
        "2. Zermelo (1913): backward induction\n",
        "3. von Neumann (1928), Borel (1938), von Neumann and Morgenstern\n",
        "(1944): zero-sum games\n",
        "4. Flood and Dresher (1950): experiments\n",
        "5. Nash (1950): equilibrium\n",
        "6. Selten (1965): dynamic games\n",
        "7. Harsanyi (1967): incomplete information\n",
        "8. Akerlof (1970), Spence (1973): first applications\n",
        "9. 1980s boom, continuing nowadays: repeated games, bargaining,\n",
        "reputation, equilibrium refinements, industrial organization, contract\n",
        "theory, mechanism/market design\n",
        "10. 1990s: parallel development of behavioral economics\n",
        "11. more recently: applications to computer science, political science,\n",
        "psychology, evolutionary biology\n",
        "Mihai Manea (MIT) Game Theory"
      ]
    },
    {
      "cell_type": "markdown",
      "metadata": {
        "id": "mGoteUtExPgv"
      },
      "source": [
        "\n",
        "\n",
        "## EXAMPLES"
      ]
    },
    {
      "cell_type": "markdown",
      "metadata": {
        "id": "vzKj4KLc2nWm"
      },
      "source": [
        "# Example 1\n",
        "$$PRISONER$$ $$DILEMMA$$\n",
        "\n",
        "Interrogation room:\n",
        "\n",
        "lets imagine, two people were arrested and held in the conection with a certain robbery. The prosecution has enough evdience to convict them for tesspasing but the prosecution belived they carried out the robery. Now DA comes in and put them in seprate room where they cannot see and hear each other and start interrogation. DA wanted to put them the 8 month each behind bars. \n",
        "\n",
        "imagine a conditions for outcomes:\n",
        "\n",
        "---\n",
        "if any one of two people will confess they can charged with robery. if one confess other wont, other one going to jail for 12 months and person who confess will go free for good.\n",
        "\n",
        "---\n",
        "if both confess, both are going to jail for six month each for good. \n",
        "\n",
        "---\n",
        "if they do not confess, both will be charged with trasspassing and get 1 month of jail time for good. \n",
        "\n",
        "---\n",
        "check out this table\n",
        "\n",
        "###Person1 vs Person2\n",
        "\n",
        "\n",
        "|CONFESS    |   LIE    |\n",
        "|-----------|----------|\n",
        "| (-8,-8)   |  (0,-12) |\n",
        "| (-12,0)   |  (-1,-1) |\n",
        "\n",
        "----\n",
        "According to $NASH$ $EQUILIBLIUM$ which gives optimal outcome of a game, they both going to confess and get 8 month each of jail time for good.\n",
        "\n",
        "But $DOMINANT$ $STRAGTEGY$ which expalins the optimal move for any player regardless how other player acts, gives the outcome of someone going to jail for 12 month and other none. \n",
        "\n",
        "# Example 2\n",
        "\n",
        " Let's Consider the following bargaining problem: 20 dollars needs to be split between Jack and Mac. Mac gets to make an initial offer. \n",
        " \n",
        "Jack then gets to respond by either accepting Mac's initial offer or offering a counter offer. Finally, Mac can respond by either accepting Jakes offer or making a final offer.\n",
        "\n",
        "If Jake does not accept Mac's final offer both Jack and Mac get nothing. Jack discounts the future at 10% (i.e. future earnings are with 10% less than current earnings while Mac discounts the future at 20%. Calculate the Nash equilibrium of this bargaining problem.\n",
        "\n",
        "The key to each of these games is as follows: At any stage, the offer made needs to be acceptable to both parties.\n",
        "\n",
        "We need to work backwards: \n",
        "Stage 3: Note that if Jack rejects Mac's offer at this stage, the money disappears. Therefore, Jack will accept anything positive. Mac offers: 20 dollar to herself, 0 dollar to Jack.\n",
        "\n",
        "Stage 2: Now, Jack must make an offer that Mac will accept (if the game gets to stage three, Jack gets nothing).Mac is indifferent between 20 dollar dollar in one year and 16 dollar today (she discounts the future at 20%). Jack offers: 16 dollars to Mac, 4 dollar to Himself \n",
        "\n",
        "Stage 1: Now, Mac must make an offer that Jack will accept (and is preferable to her – if this is not possible, then she will make an offer jack rejects and the game goes to stage 2).\n",
        "\n",
        "\n",
        "Jack is indifferent between 4 dollar in one year and 3.60 dollar today (he discounts the future at 10%). Note that 16.40 is preferred by Mac to $16 in one year. Mac offer: $16.40 to herself,3.60 to Jack.\n",
        "\n",
        "\n",
        "\n",
        "\n",
        "# Example 3\n",
        "Imagine buying a truck from a dealership.\n",
        "\n",
        "You want to buy the truck and want to get the best price. The dealer has a fixed price beyond that he can't drop without making a loss. The truck dealer bases his discussion tactics on the fact, you want the truck, which he can sell the truck to another buyer that he will win praise for and the break-even point beyond which he cannot negotiate down.\n",
        "\n",
        "You base your discussion tactics on the fact that dealer wants to sell the truck, that there is a profit margin into which you can bargain to bring truck's price down, and are mindful that the dealer knows your presence in his office means you want to buy a truck.\n",
        "\n",
        "Every time we interact with another person, whether it is eyeing up the last donut at the store, or doing a favour for co-worker that we will hope will be repaid in kind. This logic that we use could be explained using the rules of game theory.\n",
        "# Example 4\n",
        "Assume you are trying to buy a car. The best outcome for you is to get the car as cheap as possible let’s say at cost to the company. The best outcome for the Dealer is going to be to get you to pay above sticker price for the car. Let’s say the salesman tries to get you to pay 40,000 for a car that cost the dealership 30,000 to get on the lot and sell. Ideally you would want to know exactly how much they paid for it so you could get it for that price. But in the real world the salesman won’t tell you how much he needs out of the car. However, you also have power in this situation because the dealer doesn’t know how much you are willing to pay for the car. Ideally you would meet exactly in the middle so each party leaves happy. That is not how buying a car works though. There is always a winner and a loser and the dealership wins the majority of the time. The dealership has the most power because they get the last say in what price the car is sold for. In reality you will never get a car for what the dealerAssume you are trying to buy a car. The best outcome for you is to get the car as cheap as possible let’s say at cost to the company. The best outcome for the Dealer is going to be to get you to pay above sticker price for the car. Let’s say the salesman tries to get you to pay $40,000 for a car that cost the dealership 30,000 to get on the lot and sell. Ideally you would want to know exactly how much they paid for it so you could get it for that price. But in the real world the salesman won’t tell you how much he needs out of the car. However, you also have power in this situation because the dealer doesn’t know how much you are willing to pay for the car. Ideally you would meet exactly in the middle so each party leaves happy. That is not how buying a car works though. There is always a winner and a loser and the dealership wins the majority of the time. The dealership has the most power because they get the last say in what price the car is sold for. In reality you will never get a car for what the dealer buys it for."
      ]
    },
    {
      "cell_type": "markdown",
      "metadata": {
        "id": "iPOp-Qq3t9tS"
      },
      "source": [
        ""
      ]
    },
    {
      "cell_type": "markdown",
      "metadata": {
        "id": "Z6ZUpy7pxXy_"
      },
      "source": [
        "## $$REFRENCES$$\n",
        "1. Game Theory concepts with application in Python using Nashpy Krishnan, Mythili. “Game Theory Concepts with Application in Python Using Nashpy (Part 1).” Medium, 16 Nov. 2020, towardsdatascience.com/game-theory-in-python-with-nashpy-cb5dceab262c.\n",
        "2. Nash Equilibrium “Nash Equilibrium.” Investopedia, 3 Mar. 2021, www.investopedia.com/terms/n/nash-equilibrium.asp.\n",
        "3. \"Game Theory.” Funk & Wagnalls New World Encyclopedia, Jan. 2018, p. 1; EBSCOhost, 0-search-ebscohost-com.library.ecok.edu/login.aspx?direct=true&db=funk&AN=ga010500&site=eds-live&scope=site.\n",
        "4. multi energy conversion based on game theory He, Jianjia, et al. “Multi-Energy Conversion Based on Game Theory in the Industrial Interconnection.” PloS One, vol. 16, no. 1, Jan. 2021, p. e0245622. EBSCOhost, doi:10.1371/journal.pone.0245622."
      ]
    },
    {
      "cell_type": "markdown",
      "metadata": {
        "id": "qd-xxM-v2_cw"
      },
      "source": [
        "# PROBLEMS "
      ]
    },
    {
      "cell_type": "markdown",
      "metadata": {
        "id": "K-UvQ0Pj3FFZ"
      },
      "source": [
        "# PROJECT IDEAS"
      ]
    },
    {
      "cell_type": "markdown",
      "metadata": {
        "id": "7QZzoYiL3Jjx"
      },
      "source": [
        "$$AUTHOR$$"
      ]
    },
    {
      "cell_type": "code",
      "metadata": {
        "id": "YMPSaTopwMsv"
      },
      "source": [
        ""
      ],
      "execution_count": null,
      "outputs": []
    },
    {
      "cell_type": "code",
      "metadata": {
        "id": "-PCPRwSJ2zSo"
      },
      "source": [
        ""
      ],
      "execution_count": null,
      "outputs": []
    }
  ]
}